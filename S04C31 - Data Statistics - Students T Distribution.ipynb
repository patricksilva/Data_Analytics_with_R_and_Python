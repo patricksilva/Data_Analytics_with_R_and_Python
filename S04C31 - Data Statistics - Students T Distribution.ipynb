{
 "cells": [
  {
   "cell_type": "markdown",
   "metadata": {},
   "source": [
    "# S04C31 - Data Statistics - Students T Distribution"
   ]
  },
  {
   "cell_type": "markdown",
   "metadata": {},
   "source": [
    "## Summary\n",
    "* What it means when we cannot reject the Null Hypothesis $H_0$\n",
    "* Student's t-distribution\n",
    "* T-Tests\n",
    "* 1-Tailed And 2-Tailed Tests\n",
    "* 2-Tailed Test Exercise\n",
    "* Warning about misuse and overuse of p-values\n",
    "* Real Life Example"
   ]
  },
  {
   "cell_type": "markdown",
   "metadata": {},
   "source": [
    "## Topic\n",
    "\n",
    "Lorem ipsum"
   ]
  },
  {
   "cell_type": "markdown",
   "metadata": {},
   "source": [
    "### Subtittle\n",
    "\n",
    "Lorem ipsum"
   ]
  },
  {
   "cell_type": "markdown",
   "metadata": {},
   "source": [
    "## References\n",
    "\n",
    "[Canal Youtube Professor Guru: #08 - Distribuição t-Student - Conceitos e Tabela](https://www.youtube.com/watch?v=y_-UOcQMpms)\n",
    "\n",
    "[Canal Youtube Professor Guru: #01 - Intervalo de Confiança - Conceitos | Nível de Confiança | Inferência Estatística](https://www.youtube.com/watch?v=sWle26_vNbI&list=PL7xT0Gz6G0-SgMcsUnaSYs4kT2z69ikM2)\n"
   ]
  },
  {
   "cell_type": "code",
   "execution_count": null,
   "metadata": {
    "collapsed": true
   },
   "outputs": [],
   "source": []
  }
 ],
 "metadata": {
  "kernelspec": {
   "display_name": "R",
   "language": "R",
   "name": "ir"
  },
  "language_info": {
   "codemirror_mode": "r",
   "file_extension": ".r",
   "mimetype": "text/x-r-source",
   "name": "R",
   "pygments_lexer": "r",
   "version": "3.4.1"
  }
 },
 "nbformat": 4,
 "nbformat_minor": 2
}
