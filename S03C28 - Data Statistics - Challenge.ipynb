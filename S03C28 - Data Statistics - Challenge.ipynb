{
 "cells": [
  {
   "cell_type": "markdown",
   "metadata": {},
   "source": [
    "# S03D28 - Data Statistics - Challenge"
   ]
  },
  {
   "cell_type": "markdown",
   "metadata": {},
   "source": [
    "## Summary\n",
    "* Statistical Significance\n",
    "* Hypothesis Testing (tests involving the mean)\n",
    "    * Steps\n",
    "    * Rejection Region\n",
    "    * Assumptions\n",
    "* Proportion Testing (another type of hypot. test but testing proportions instead of the mean)"
   ]
  },
  {
   "cell_type": "markdown",
   "metadata": {},
   "source": [
    "## Challenge\n",
    "\n",
    "A client that manufactures kitchen goods asked for a data analysis. \n",
    "\n",
    "They spent $10,000,000 in fixed assets (equipment, machines and tools) and processes in order to decrease high number of defects in manufacturing (23%) which were leading to high return rates from their clients.\n",
    "\n",
    "We have been asked **to prove** (with a confidence level of **95%**) that new equipement has improved the situation and that the number of defective spoons has decreased to under 18%.\n",
    "We have been supplied with a random sample of 150 goods and found that 23 have defects."
   ]
  },
  {
   "cell_type": "markdown",
   "metadata": {},
   "source": [
    "### Solution"
   ]
  },
  {
   "cell_type": "markdown",
   "metadata": {},
   "source": [
    "$H_0$ : defects in manufacturing $\\geqslant$ 18%"
   ]
  },
  {
   "cell_type": "markdown",
   "metadata": {},
   "source": [
    "$H_1$ : defects in manufacturing < 18%"
   ]
  },
  {
   "cell_type": "markdown",
   "metadata": {},
   "source": [
    "The **Central Limit Theorem** guarantees that the proportion distribuion is normally distributed."
   ]
  },
  {
   "cell_type": "markdown",
   "metadata": {},
   "source": [
    "$$\n",
    "\\mu_{\\bar{p}} = \\mu = p\n",
    "$$"
   ]
  },
  {
   "cell_type": "markdown",
   "metadata": {},
   "source": [
    "$$\n",
    "$\\sigma = \\sqrt{pq}\n",
    "$$"
   ]
  },
  {
   "cell_type": "markdown",
   "metadata": {},
   "source": [
    "$ \\mu_{\\bar{p}} = \\mu = p = 0.18$"
   ]
  },
  {
   "cell_type": "markdown",
   "metadata": {},
   "source": [
    "$\\sigma = \\sqrt{pq} = \\sqrt{0.18 * 0.82} = 0.384$"
   ]
  },
  {
   "cell_type": "markdown",
   "metadata": {},
   "source": [
    "$$\\sigma_{\\bar{p}} = \\frac{\\sigma}{\\sqrt{n}}$$"
   ]
  },
  {
   "cell_type": "markdown",
   "metadata": {},
   "source": [
    "$\\sigma_{\\bar{p}} = \\frac{0.384}{\\sqrt{150}} = 0.031$"
   ]
  },
  {
   "cell_type": "markdown",
   "metadata": {},
   "source": [
    "$\\bar{p} = \\frac{23}{150} = 0.153$"
   ]
  },
  {
   "cell_type": "markdown",
   "metadata": {},
   "source": [
    "$$\n",
    "Z = \\frac{\\bar{p} - \\mu_{\\bar{p}}}{\\sigma_{\\bar{p}}}\n",
    "$$"
   ]
  },
  {
   "cell_type": "markdown",
   "metadata": {},
   "source": [
    "$Z = \\frac{0.153 - 0.18}{0.031} = -0.87$"
   ]
  },
  {
   "cell_type": "markdown",
   "metadata": {},
   "source": [
    "The $P$ value for $Z = -0.87$ is:"
   ]
  },
  {
   "cell_type": "markdown",
   "metadata": {},
   "source": [
    "$P = 0.1922 = 19.22\\% > 5\\%$"
   ]
  },
  {
   "cell_type": "markdown",
   "metadata": {},
   "source": [
    "There is **insufficient evidence** to reject the $H_0$ hypothesis.\n",
    "\n",
    "If this result keeps going on with other samples, then that's just no way to reject the null hypothesis.\n",
    "\n",
    "With time, after several iterations we might figure out that this looks like it is a pretty solid result.\n",
    "\n",
    "Getting more or even larger samples could tighten up this end. But it can be the case that we just can not reject $H_0$ because this alternative, $H_1$ is just not true.\n",
    "\n",
    "What to tell the executives?\n",
    "\n",
    "We always have to tell what the data is saying. That is our job as a **Data Scientist** consultant.\n",
    "\n",
    "The thing is that, sometimes, maybe the executives made the wrong decision. Like, what if it was not about the equipment that they are using. What if it was not about the kitchen goods were intrinsically bad designed and they had so much defects, not just because the equipment that they were using. Maybe by changing their equipment and processes they did improve the quality or the kitchen goods but not as much as they wanted to.\n",
    "\n",
    "Maybe there is something with other parts of the inputs. For example, the raw materials. The raw materials that go into the kitchen goods. Have they looked at that? And, as a consultant, we would go and probably suggest maybe, if it is part of the scope of your project, suggest some other things that they could look into like the raw materials that are being used for these spoons if the raw materials are defective then that inherently translates into defective products.\n",
    "\n",
    "What else could it be? Maybe they improve the processes but they did not train up the staff.\n",
    "Maybe that is another thing that they could look at.\n",
    "\n",
    "Maybe this proves them are manufactured well but then the storage while they are being stored maybe there is something wrong with the way that it has been stored like too hot or to cold or is vibration or something like that.\n",
    "\n",
    "Maybe that is all there could be lots of things so that is just kind of like a litle consulting intermission about what you might say. Some ideas that you might have about what is going on.\n",
    "\n",
    "But other than that, **in this case we do not reject null hypothesis** and we just say that **there is not enough evidence to reject the null hypothesis at that level of confidence**.\n",
    "\n",
    "We could reject it at 80% level of confidence, because this is $P = 19.22\\%$"
   ]
  },
  {
   "cell_type": "code",
   "execution_count": 1,
   "metadata": {
    "collapsed": false
   },
   "outputs": [],
   "source": [
    "library('visualize')"
   ]
  },
  {
   "cell_type": "code",
   "execution_count": 2,
   "metadata": {
    "collapsed": false
   },
   "outputs": [
    {
     "data": {
      "text/html": [
       "0.384"
      ],
      "text/latex": [
       "0.384"
      ],
      "text/markdown": [
       "0.384"
      ],
      "text/plain": [
       "[1] 0.384"
      ]
     },
     "metadata": {},
     "output_type": "display_data"
    },
    {
     "data": {
      "text/html": [
       "0.031"
      ],
      "text/latex": [
       "0.031"
      ],
      "text/markdown": [
       "0.031"
      ],
      "text/plain": [
       "[1] 0.031"
      ]
     },
     "metadata": {},
     "output_type": "display_data"
    },
    {
     "data": {
      "text/html": [
       "0.153"
      ],
      "text/latex": [
       "0.153"
      ],
      "text/markdown": [
       "0.153"
      ],
      "text/plain": [
       "[1] 0.153"
      ]
     },
     "metadata": {},
     "output_type": "display_data"
    }
   ],
   "source": [
    "precision <- 3\n",
    "mean_x <- .18 # critical boundary\n",
    "#mean_x <- .23 # critical boundary\n",
    "n <- 150 # random sample\n",
    "sd <- sqrt(mean_x * (1 - mean_x)) # estimated standard deviation of the population\n",
    "round(sd, precision)\n",
    "sdx <- sd / sqrt(n)\n",
    "round(sdx, precision)\n",
    "x_crit_boundary <- 23 / n\n",
    "round(x_crit_boundary, precision)"
   ]
  },
  {
   "cell_type": "code",
   "execution_count": 3,
   "metadata": {
    "collapsed": false
   },
   "outputs": [
    {
     "data": {
      "text/html": [
       "-0.027"
      ],
      "text/latex": [
       "-0.027"
      ],
      "text/markdown": [
       "-0.027"
      ],
      "text/plain": [
       "[1] -0.027"
      ]
     },
     "metadata": {},
     "output_type": "display_data"
    }
   ],
   "source": [
    "distance <- x_crit_boundary - mean_x\n",
    "round(distance, precision)"
   ]
  },
  {
   "cell_type": "code",
   "execution_count": 4,
   "metadata": {
    "collapsed": false
   },
   "outputs": [
    {
     "data": {
      "text/html": [
       "-0.85"
      ],
      "text/latex": [
       "-0.85"
      ],
      "text/markdown": [
       "-0.85"
      ],
      "text/plain": [
       "[1] -0.85"
      ]
     },
     "metadata": {},
     "output_type": "display_data"
    }
   ],
   "source": [
    "Z <- distance / sdx\n",
    "round(Z, precision)"
   ]
  },
  {
   "cell_type": "code",
   "execution_count": 5,
   "metadata": {
    "collapsed": false
   },
   "outputs": [
    {
     "name": "stdout",
     "output_type": "stream",
     "text": [
      "probability:  0.198"
     ]
    }
   ],
   "source": [
    "probability <- pnorm(Z)\n",
    "cat(\"probability: \", round(probability, precision))"
   ]
  },
  {
   "cell_type": "code",
   "execution_count": 8,
   "metadata": {
    "collapsed": false
   },
   "outputs": [
    {
     "data": {
      "image/png": "[encoded data removed]",
      "text/plain": [
       "Plot with title \"Normal Distribution  \n",
       " μ  =  0.18   σ  =  0.031  \""
      ]
     },
     "metadata": {},
     "output_type": "display_data"
    }
   ],
   "source": [
    "visualize.norm(stat=x_crit_boundary, mu = round(mean_x, precision),\n",
    "               sd = round(sdx, precision), section = \"lower\")\n",
    "abline(v = mean_x, col=\"red\", lwd=3, lty=2)"
   ]
  },
  {
   "cell_type": "code",
   "execution_count": 7,
   "metadata": {
    "collapsed": false
   },
   "outputs": [
    {
     "data": {
      "text/html": [
       "'$H_0$ : was accepted with a confidence level of **95%**$H_1$ : was rejected.'"
      ],
      "text/latex": [
       "'\\$H\\_0\\$ : was accepted with a confidence level of **95\\%**\\$H\\_1\\$ : was rejected.'"
      ],
      "text/markdown": [
       "'$H_0$ : was accepted with a confidence level of **95%**$H_1$ : was rejected.'"
      ],
      "text/plain": [
       "[1] \"$H_0$ : was accepted with a confidence level of **95%**$H_1$ : was rejected.\""
      ]
     },
     "metadata": {},
     "output_type": "display_data"
    }
   ],
   "source": [
    "part_ans0 <- 'accept'\n",
    "part_ans1 <- 'reject'\n",
    "\n",
    "if ( probability < .05 ) {\n",
    "    part_ans0 <- 'reject'\n",
    "    part_ans1 <- 'accept'\n",
    "}\n",
    "\n",
    "paste(c(\"$H_0$ : was \",part_ans0,\n",
    "        \"ed with a confidence level of **95%**\",\"$H_1$ : was \",part_ans1,\"ed.\"),collapse=\"\")"
   ]
  },
  {
   "cell_type": "markdown",
   "metadata": {},
   "source": [
    "###  Future work\n",
    "\n",
    "To calculate and plot side by side the normal distribution for mean_x in (0.18, 0.23)"
   ]
  },
  {
   "cell_type": "markdown",
   "metadata": {},
   "source": [
    "## References\n",
    "\n",
    "https://cran.r-project.org/web/packages/visualize/visualize.pdf\n",
    "\n",
    "http://thecoatlessprofessor.com/projects/visualize/\n",
    "\n",
    "https://www.dataquest.io/blog/jupyter-notebook-tips-tricks-shortcuts/\n",
    "\n",
    "https://stackoverflow.com/questions/13973116/convert-r-vector-to-string-vector-of-1-element\n",
    "\n",
    "http://www.sthda.com/english/wiki/abline-r-function-an-easy-way-to-add-straight-lines-to-a-plot-using-r-software"
   ]
  }
 ],
 "metadata": {
  "kernelspec": {
   "display_name": "R",
   "language": "R",
   "name": "ir"
  },
  "language_info": {
   "codemirror_mode": "r",
   "file_extension": ".r",
   "mimetype": "text/x-r-source",
   "name": "R",
   "pygments_lexer": "r",
   "version": "3.4.1"
  }
 },
 "nbformat": 4,
 "nbformat_minor": 2
}
