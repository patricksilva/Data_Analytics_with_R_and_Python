{
 "cells": [
  {
   "cell_type": "markdown",
   "metadata": {},
   "source": [
    "# S03D28 - Data Statistics - Challenge"
   ]
  },
  {
   "cell_type": "markdown",
   "metadata": {},
   "source": [
    "## Summary\n",
    "* Statistical Significance\n",
    "* Hypothesis Testing (tests involving the mean)\n",
    "    * Steps\n",
    "    * Rejection Region\n",
    "    * Assumptions\n",
    "* Proportion Testing (another type of hypot. test but testing proportions instead of the mean)"
   ]
  },
  {
   "cell_type": "markdown",
   "metadata": {},
   "source": [
    "## Challenge\n",
    "\n",
    "A client that manufactures kitchen goods asked for a data analysis. \n",
    "\n",
    "They spent $10,000,000 in fixed assets (equipment, machines and tools) and processes in order to decrease high number of defects in manufacturing (23%) which were leading to high return rates from their clients.\n",
    "\n",
    "We have been asked **to prove** (with a confidence level of **95%**) that new equipement has improved the situation and that the number of defective spoons has decreased to under 18%.\n",
    "We have been supplied with a random sample of 150 goods and found that 23 have defects."
   ]
  },
  {
   "cell_type": "markdown",
   "metadata": {},
   "source": [
    "### Draft\n",
    "\n",
    "Setting up hypothesis"
   ]
  },
  {
   "cell_type": "markdown",
   "metadata": {},
   "source": [
    "$H_0$ : defects in manufacturing $\\geqslant$ 18%"
   ]
  },
  {
   "cell_type": "markdown",
   "metadata": {},
   "source": [
    "$H_1$ : defects in manufacturing < 18%"
   ]
  },
  {
   "cell_type": "code",
   "execution_count": 5,
   "metadata": {
    "collapsed": false
   },
   "outputs": [
    {
     "name": "stderr",
     "output_type": "stream",
     "text": [
      "Installing package into 'C:/Users/pasilva/Documents/R/win-library/3.4'\n",
      "(as 'lib' is unspecified)\n"
     ]
    },
    {
     "ename": "ERROR",
     "evalue": "Error in contrib.url(repos, \"source\"): trying to use CRAN without setting a mirror\n",
     "output_type": "error",
     "traceback": [
      "Error in contrib.url(repos, \"source\"): trying to use CRAN without setting a mirror\nTraceback:\n",
      "1. install.packages(\"visualize\")",
      "2. contrib.url(repos, \"source\")",
      "3. stop(\"trying to use CRAN without setting a mirror\")"
     ]
    }
   ],
   "source": [
    "install.packages('visualize')\n",
    "library('visualize')"
   ]
  },
  {
   "cell_type": "markdown",
   "metadata": {},
   "source": [
    "### Solution\n",
    "\n",
    "Lorem ipsum"
   ]
  },
  {
   "cell_type": "markdown",
   "metadata": {},
   "source": [
    "## References\n",
    "\n",
    "https://cran.r-project.org/web/packages/visualize/visualize.pdf\n",
    "\n",
    "http://thecoatlessprofessor.com/projects/visualize/\n",
    "\n"
   ]
  }
 ],
 "metadata": {
  "kernelspec": {
   "display_name": "R",
   "language": "R",
   "name": "ir"
  },
  "language_info": {
   "codemirror_mode": "r",
   "file_extension": ".r",
   "mimetype": "text/x-r-source",
   "name": "R",
   "pygments_lexer": "r",
   "version": "3.4.1"
  }
 },
 "nbformat": 4,
 "nbformat_minor": 2
}
