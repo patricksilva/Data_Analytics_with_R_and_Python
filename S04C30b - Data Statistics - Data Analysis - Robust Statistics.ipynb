{
 "cells": [
  {
   "cell_type": "markdown",
   "metadata": {},
   "source": [
    "# S04D30b - Data Statistics - Data Analysis - Robust Statistics"
   ]
  },
  {
   "cell_type": "markdown",
   "metadata": {},
   "source": [
    "## Summary S03\n",
    "* Statistical Significance\n",
    "* Hypothesis Testing (tests involving the mean)\n",
    "    * Steps\n",
    "    * Rejection Region\n",
    "    * Assumptions\n",
    "* Proportion Testing (another type of hypot. test but testing proportions instead of the mean)\n",
    "\n",
    "## Summary S04\n",
    "* What it means when we cannot reject the Null Hypothesis $H_0$\n",
    "* Student's t-distribution\n",
    "* T-Tests\n",
    "* 1-Tailed And 2-Tailed Tests\n",
    "* 2-Tailed Test Exercise\n",
    "* Warning about misuse and overuse of p-values\n",
    "* Real Life Example"
   ]
  },
  {
   "cell_type": "markdown",
   "metadata": {},
   "source": [
    "## Topic\n",
    "\n",
    "Lorem ipsum"
   ]
  },
  {
   "cell_type": "markdown",
   "metadata": {},
   "source": [
    "### Subtittle\n",
    "\n",
    "Lorem ipsum"
   ]
  },
  {
   "cell_type": "markdown",
   "metadata": {},
   "source": [
    "## References\n",
    "\n",
    "* https://pt.wikipedia.org/wiki/Categoria:An%C3%A1lise_de_dados\n",
    "\n",
    "* https://en.wikipedia.org/wiki/Robust_statistics\n",
    "\n",
    "* https://pt.wikipedia.org/wiki/Estat%C3%ADstica_robusta\n",
    "\n",
    "* * https://pt.wikipedia.org/wiki/Estimador\n",
    "\n",
    "* https://en.wikipedia.org/wiki/Multivariate_statistics\n",
    "\n",
    "* https://pt.wikipedia.org/wiki/Estat%C3%ADstica_multivari%C3%A1vel\n",
    "\n",
    "* https://pt.wikipedia.org/wiki/Estat%C3%ADstica_multivari%C3%A1vel\n",
    "\n",
    "* https://en.wikipedia.org/wiki/Coefficient_of_variation\n",
    "\n",
    "* https://pt.wikipedia.org/wiki/Coeficiente_de_varia%C3%A7%C3%A3o\n",
    "\n",
    "* https://www.youtube.com/watch?v=9XiQEE9C7AY&list=PLTtZUJqLYbCl9oBV_22ycFJsVeddG4ixd\n",
    "\n",
    "#### Robust Statistics with R\n",
    "\n",
    "* https://cran.r-project.org/web/packages/WRS2/vignettes/WRS2.pdf\n",
    "\n",
    "* https://cran.r-project.org/web/views/Robust.html\n",
    "\n",
    "* https://cran.r-project.org/web/packages/MASS/index.html\n",
    "\n",
    "* https://cran.r-project.org/web/packages/robust/robust.pdf\n",
    "\n",
    "* https://www.r-bloggers.com/r-package-wilcox-robust-statistics-updated-wrs-v0-20/\n",
    "\n",
    "* https://www.rdocumentation.org/packages/robustbase/versions/0.92-7\n",
    "\n",
    "* https://rdrr.io/rforge/WRS/\n",
    "\n",
    "* https://cran.r-project.org/web/packages/robust/index.html"
   ]
  }
 ],
 "metadata": {
  "kernelspec": {
   "display_name": "R",
   "language": "R",
   "name": "ir"
  },
  "language_info": {
   "codemirror_mode": "r",
   "file_extension": ".r",
   "mimetype": "text/x-r-source",
   "name": "R",
   "pygments_lexer": "r",
   "version": "3.4.1"
  }
 },
 "nbformat": 4,
 "nbformat_minor": 2
}
