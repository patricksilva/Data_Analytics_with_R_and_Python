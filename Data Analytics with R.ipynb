{
 "cells": [
  {
   "cell_type": "markdown",
   "metadata": {},
   "source": [
    "# Data Analytics with R in Jupyter Notebook\n"
   ]
  },
  {
   "cell_type": "markdown",
   "metadata": {},
   "source": [
    "## Getting data\n",
    "\n",
    "* Reading local plain text files\n",
    "* Accessing remote files with URL's\n",
    "* Accessing relational databases"
   ]
  },
  {
   "cell_type": "code",
   "execution_count": 1,
   "metadata": {
    "collapsed": true
   },
   "outputs": [],
   "source": [
    "URL <- 'https://data.gov.in/sites/default/files/datafile/housing_price_index_2010-11_100.csv'"
   ]
  },
  {
   "cell_type": "code",
   "execution_count": 2,
   "metadata": {
    "collapsed": false
   },
   "outputs": [],
   "source": [
    "suppressWarnings(library('downloader'))"
   ]
  },
  {
   "cell_type": "code",
   "execution_count": 3,
   "metadata": {
    "collapsed": false
   },
   "outputs": [],
   "source": [
    "#download.file(url, destfile = 'housing_price_index_2010-11_100.csv', method= 'curl')\n",
    "download(URL, 'housing_price_index_2010-11_100.csv', mode = 'wb')"
   ]
  },
  {
   "cell_type": "code",
   "execution_count": 4,
   "metadata": {
    "collapsed": false
   },
   "outputs": [
    {
     "data": {
      "text/html": [
       "'C:/Users/pasilva/Documents/Projects/Data Analytics with R and Python'"
      ],
      "text/latex": [
       "'C:/Users/pasilva/Documents/Projects/Data Analytics with R and Python'"
      ],
      "text/markdown": [
       "'C:/Users/pasilva/Documents/Projects/Data Analytics with R and Python'"
      ],
      "text/plain": [
       "[1] \"C:/Users/pasilva/Documents/Projects/Data Analytics with R and Python\""
      ]
     },
     "metadata": {},
     "output_type": "display_data"
    }
   ],
   "source": [
    "getwd()"
   ]
  },
  {
   "cell_type": "markdown",
   "metadata": {},
   "source": [
    "**PROBLEM:** When trying to install a package into a Jupyter notebook running an R kernel we get the error message: \"Error in contrib.url(repos, \"source\"): trying to use CRAN without setting a mirror\".\n",
    "\n",
    "**IDEAL SOLUTION:** Step-by-step proceedings on how to set up the CRAN mirror permanently.\n",
    "\n",
    "**SOLUTION/WORKAROUND:**\n",
    "The default is install.packages(..., repos = getOption('repos')), which evaluates to install.packages(..., repos = c(CRAN = '@CRAN@'))\n",
    "\n",
    "@CRAN@ means “show a selector”, but IRkernel doesn’t identify as “interactive” yet, so interactive functions like popping up a repo selector doesn’t work.\n",
    "\n",
    "therefore, you either have to call install.packages(..., repos = c('https://...', ...)) every time, or options(repos = c('https://...', ...)) once in your notebook (before the install.packages) call.\n",
    "\n",
    "you can get something automatically by doing e.g.:\n",
    "```R\n",
    "country.code <- 'de'  # use yours\n",
    "url.pattern <- 'https://'  # use http if you want\n",
    "repo.data.frame <- subset(getCRANmirrors(), CountryCode == country.code & grepl(url.pattern, URL))\n",
    "options(repos = repo.data.frame$URL)\n",
    "```\n",
    "**REFERENCES:**\n",
    "\n",
    "https://github.com/IRkernel/IRkernel/issues/234\n",
    "\n",
    "https://stackoverflow.com/questions/17300582/download-file-in-r-has-non-zero-exit-status"
   ]
  },
  {
   "cell_type": "code",
   "execution_count": 5,
   "metadata": {
    "collapsed": false
   },
   "outputs": [
    {
     "name": "stderr",
     "output_type": "stream",
     "text": [
      "Installing package into 'C:/Users/pasilva/Documents/R/win-library/3.4'\n",
      "(as 'lib' is unspecified)\n",
      "Warning message:\n",
      "\"unable to access index for repository /src/contrib:\n",
      "  scheme not supported in URL '/src/contrib/PACKAGES'\"Warning message:\n",
      "\"package 'downloader' is not available (for R version 3.4.1)\"Warning message:\n",
      "\"unable to access index for repository /bin/windows/contrib/3.4:\n",
      "  scheme not supported in URL '/bin/windows/contrib/3.4/PACKAGES'\""
     ]
    }
   ],
   "source": [
    "country.code <- 'BRA'\n",
    "url.patten <- 'https://'\n",
    "\n",
    "repo.data.frame <- subset(\n",
    "    getCRANmirrors()\n",
    "    , CountryCode == country.code & grepl(url.patten, URL)\n",
    ")\n",
    "\n",
    "options(repos = repo.data.frame$URL)\n",
    "\n",
    "install.packages(\"downloader\")"
   ]
  },
  {
   "cell_type": "code",
   "execution_count": null,
   "metadata": {
    "collapsed": false
   },
   "outputs": [],
   "source": []
  },
  {
   "cell_type": "code",
   "execution_count": 6,
   "metadata": {
    "collapsed": false
   },
   "outputs": [],
   "source": [
    "#Sys.getenv()\n",
    "#Sys.getlocale()"
   ]
  },
  {
   "cell_type": "markdown",
   "metadata": {
    "collapsed": true
   },
   "source": [
    "$$\n",
    "F(k) = \\int_{-\\infty}^{\\infty} f(x) e^{2\\pi i k} dx'))\n",
    "$$"
   ]
  }
 ],
 "metadata": {
  "kernelspec": {
   "display_name": "R",
   "language": "R",
   "name": "ir"
  },
  "language_info": {
   "codemirror_mode": "r",
   "file_extension": ".r",
   "mimetype": "text/x-r-source",
   "name": "R",
   "pygments_lexer": "r",
   "version": "3.4.1"
  }
 },
 "nbformat": 4,
 "nbformat_minor": 2
}
