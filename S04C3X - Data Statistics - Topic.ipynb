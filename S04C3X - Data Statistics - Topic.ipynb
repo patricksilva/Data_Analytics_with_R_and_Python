{
 "cells": [
  {
   "cell_type": "markdown",
   "metadata": {},
   "source": [
    "# S04C3X- Data Statistics - Topic"
   ]
  },
  {
   "cell_type": "markdown",
   "metadata": {},
   "source": [
    "## Summary\n",
    "* What it means when we cannot reject the Null Hypothesis $H_0$\n",
    "* Student's t-distribution\n",
    "* T-Tests\n",
    "* 1-Tailed And 2-Tailed Tests\n",
    "* 2-Tailed Test Exercise\n",
    "* Warning about misuse and overuse of p-values\n",
    "* Real Life Example"
   ]
  },
  {
   "cell_type": "markdown",
   "metadata": {},
   "source": [
    "## Topic\n",
    "\n",
    "Lorem ipsum"
   ]
  },
  {
   "cell_type": "markdown",
   "metadata": {},
   "source": [
    "### Subtittle\n",
    "\n",
    "Lorem ipsum\n",
    "\n",
    "### Converting a Jupyter Notebook into a Reveal.js presentation\n",
    "\n",
    "```js\n",
    "jupyter-nbconvert --to slides S04C30b.ipynb --reveal-prefix=reveal.js\n",
    "```\n",
    "### Presenting Insights\n",
    "This is an art. Good luck!\n"
   ]
  },
  {
   "cell_type": "markdown",
   "metadata": {},
   "source": [
    "## References\n",
    "\n",
    "[Presentations with Jupyter, reveal.js (and Pyhton)](https://www.youtube.com/watch?v=AjNwYq06v88)\n",
    "\n",
    "https://tableless.com.br/reveal-js-criando-apresentacoes-no-navegador/\n",
    "\n",
    "http://rmarkdown.rstudio.com/revealjs_presentation_format.html\n",
    "\n",
    "https://slides.com/\n",
    "\n",
    "[Serverless](http://slides.com/lucianomammino/serverless-the-pros-and-cons-of-building-a-company-without-infrastructure-shift-2017#/12)\n",
    "\n",
    "[Lynda.com - reveal.js: Online Presentations](https://www.lynda.com/CSS-tutorials/Online-Presentations-reveal-js/137904-2.html)\n",
    "\n",
    "https://codepen.io/davidhartley/pen/seEki\n",
    "\n",
    "https://codepad.co/snippet/tsBlOjQe\n",
    "\n",
    "https://designmodo.com/smoke-transitions/\n",
    "\n",
    "[How to Use Reveal.js (Beginner Tutorial)](https://www.youtube.com/watch?v=hM86KjsJUC4)\n",
    "\n",
    "https://www.gadgetdaily.xyz/create-an-html5-presentation-with-reveal-js/\n",
    "\n"
   ]
  },
  {
   "cell_type": "code",
   "execution_count": null,
   "metadata": {
    "collapsed": true
   },
   "outputs": [],
   "source": []
  }
 ],
 "metadata": {
  "kernelspec": {
   "display_name": "R",
   "language": "R",
   "name": "ir"
  },
  "language_info": {
   "codemirror_mode": "r",
   "file_extension": ".r",
   "mimetype": "text/x-r-source",
   "name": "R",
   "pygments_lexer": "r",
   "version": "3.4.1"
  }
 },
 "nbformat": 4,
 "nbformat_minor": 2
}
