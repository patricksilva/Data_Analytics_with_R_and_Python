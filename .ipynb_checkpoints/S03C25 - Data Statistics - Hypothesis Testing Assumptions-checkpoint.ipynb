{
 "cells": [
  {
   "cell_type": "markdown",
   "metadata": {},
   "source": [
    "# S03D26 - Data Statistics - Hypothesis Testing - Assumptions"
   ]
  },
  {
   "cell_type": "markdown",
   "metadata": {},
   "source": [
    "## Summary\n",
    "* Statistical Significance\n",
    "* Hypothesis Testing (tests involving the mean)\n",
    "    * Steps\n",
    "    * Rejection Region\n",
    "    * Assumptions\n",
    "* Proportion Testing (another type of hypot. test but testing proportions instead of the mean)"
   ]
  },
  {
   "cell_type": "markdown",
   "metadata": {},
   "source": [
    "## Topic\n",
    "\n",
    "Lorem ipsum"
   ]
  },
  {
   "cell_type": "markdown",
   "metadata": {},
   "source": [
    "### Subtittle\n",
    "\n",
    "Lorem ipsum"
   ]
  },
  {
   "cell_type": "markdown",
   "metadata": {},
   "source": [
    "## References\n",
    "\n",
    "### Topics to Review - Confidence Interval\n",
    "\n",
    "https://pt.wikipedia.org/wiki/Intervalo_de_confian%C3%A7a\n",
    "\n",
    "https://www.youtube.com/watch?v=eBh1pdrTIYo\n",
    "\n",
    "https://pt.wikipedia.org/wiki/Estimativa_por_intervalo\n",
    "\n",
    "### Topics in this notebook - Hypothesis Testing\n",
    "\n",
    "https://en.wikipedia.org/wiki/Statistical_assumption\n",
    "\n"
   ]
  }
 ],
 "metadata": {
  "kernelspec": {
   "display_name": "R",
   "language": "R",
   "name": "ir"
  },
  "language_info": {
   "codemirror_mode": "r",
   "file_extension": ".r",
   "mimetype": "text/x-r-source",
   "name": "R",
   "pygments_lexer": "r",
   "version": "3.4.1"
  }
 },
 "nbformat": 4,
 "nbformat_minor": 2
}
