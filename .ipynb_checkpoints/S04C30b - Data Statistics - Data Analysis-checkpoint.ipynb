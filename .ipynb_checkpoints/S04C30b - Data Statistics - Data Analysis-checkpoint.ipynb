{
 "cells": [
  {
   "cell_type": "markdown",
   "metadata": {},
   "source": [
    "# S04D30b - Data Statistics - Data Analysis"
   ]
  },
  {
   "cell_type": "markdown",
   "metadata": {},
   "source": [
    "## Summary\n",
    "* Statistical Significance\n",
    "* Hypothesis Testing (tests involving the mean)\n",
    "    * Steps\n",
    "    * Rejection Region\n",
    "    * Assumptions\n",
    "* Proportion Testing (another type of hypot. test but testing proportions instead of the mean)"
   ]
  },
  {
   "cell_type": "markdown",
   "metadata": {},
   "source": [
    "## Topic\n",
    "\n",
    "Lorem ipsum"
   ]
  },
  {
   "cell_type": "markdown",
   "metadata": {},
   "source": [
    "### Subtittle\n",
    "\n",
    "Lorem ipsum"
   ]
  },
  {
   "cell_type": "markdown",
   "metadata": {},
   "source": [
    "## References\n",
    "\n",
    "* https://pt.wikipedia.org/wiki/Categoria:An%C3%A1lise_de_dados\n",
    "\n",
    "* https://en.wikipedia.org/wiki/Robust_statistics\n",
    "\n",
    "* https://pt.wikipedia.org/wiki/Estat%C3%ADstica_robusta\n",
    "\n",
    "* * https://pt.wikipedia.org/wiki/Estimador\n",
    "\n",
    "* https://en.wikipedia.org/wiki/Multivariate_statistics\n",
    "\n",
    "* https://pt.wikipedia.org/wiki/Estat%C3%ADstica_multivari%C3%A1vel\n",
    "\n",
    "* https://pt.wikipedia.org/wiki/Estat%C3%ADstica_multivari%C3%A1vel\n",
    "\n",
    "* https://en.wikipedia.org/wiki/Coefficient_of_variation\n",
    "\n",
    "* https://pt.wikipedia.org/wiki/Coeficiente_de_varia%C3%A7%C3%A3o\n"
   ]
  }
 ],
 "metadata": {
  "kernelspec": {
   "display_name": "R",
   "language": "R",
   "name": "ir"
  },
  "language_info": {
   "codemirror_mode": "r",
   "file_extension": ".r",
   "mimetype": "text/x-r-source",
   "name": "R",
   "pygments_lexer": "r",
   "version": "3.4.1"
  }
 },
 "nbformat": 4,
 "nbformat_minor": 2
}
