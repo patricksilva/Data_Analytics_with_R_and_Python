{
 "cells": [
  {
   "cell_type": "markdown",
   "metadata": {},
   "source": [
    "# S03D25 - Data Statistics - Rejection Region"
   ]
  },
  {
   "cell_type": "markdown",
   "metadata": {},
   "source": [
    "## Summary\n",
    "* Statistical Significance\n",
    "* Hypothesis Testing (tests involving the mean)\n",
    "    * Steps\n",
    "    * Rejection Region\n",
    "    * Assumptions\n",
    "* Proportion Testing (another type of hypot. test but testing proportions instead of the mean)"
   ]
  },
  {
   "cell_type": "markdown",
   "metadata": {},
   "source": [
    "## Rejection Region\n",
    "\n",
    "Lorem ipsum"
   ]
  },
  {
   "cell_type": "markdown",
   "metadata": {},
   "source": [
    "### Subtittle\n",
    "\n",
    "In 2015 millenials were watching 26.5 hours of TV a week with a std. dev. of 10 hrs. Today you surveyed 50 millennials and found that they watch 24 hours of TV per week. Has the parameter decreased?"
   ]
  },
  {
   "cell_type": "markdown",
   "metadata": {},
   "source": [
    "$H_0$: It has not decreased, i.e. $\\mu \\geqslant$ 26.5"
   ]
  },
  {
   "cell_type": "markdown",
   "metadata": {},
   "source": [
    "$H_1$: It has decreased, i.e. $\\mu \\leqslant $ 26.5"
   ]
  },
  {
   "cell_type": "markdown",
   "metadata": {},
   "source": [
    "$\n",
    "\\mu_{\\bar{x}} = \\mu = 26.5\n",
    "$"
   ]
  },
  {
   "cell_type": "markdown",
   "metadata": {},
   "source": [
    "$\n",
    "\\sigma_{\\bar{x}} = \\frac{\\sigma}{\\sqrt{n}} = \\frac{10}{\\sqrt{50}} = 1.41\n",
    "$"
   ]
  },
  {
   "cell_type": "markdown",
   "metadata": {},
   "source": [
    "$\n",
    "\\bar{x} = 24\n",
    "$"
   ]
  },
  {
   "cell_type": "markdown",
   "metadata": {},
   "source": [
    "$$\n",
    "Z = \\frac{\\bar{x} - \\mu_{\\bar{x}}}{\\sigma_{\\bar{x}}}\n",
    "$$"
   ]
  },
  {
   "cell_type": "markdown",
   "metadata": {},
   "source": [
    "$Z = \\frac{24 - 26.5}{1.41} = -1.77$"
   ]
  },
  {
   "cell_type": "markdown",
   "metadata": {},
   "source": [
    "$\n",
    "P_{crit} = 0.05 \\Rightarrow Z_{crit} = -1.65\n",
    "$"
   ]
  },
  {
   "cell_type": "markdown",
   "metadata": {},
   "source": [
    "### Analysis\n",
    "\n",
    "What it is telling us? Basically is that **the likelihood of randomly picking a sample size from this rejection region is ALWAYS going to be less than 5%.**\n",
    "\n",
    "As long as we have picked a sample from the rejection region **randomly**, we can reject the null hypothesis. That means that it is so unlikely that this happened that there is probably something fishy going on that this null hypothesis $H_0$ is not acctually corret. That our assumption is incorrect."
   ]
  },
  {
   "cell_type": "markdown",
   "metadata": {},
   "source": [
    "<img src=\"img/jpg/Critic_Region_501x287.jpg\" alt=\"Critic Region\" style=\"width: 501px; height: 287px\"/>"
   ]
  },
  {
   "cell_type": "markdown",
   "metadata": {},
   "source": [
    "## References\n",
    "\n",
    "http://www.stat.ufl.edu/~athienit/Tables/Ztable.pdf\n",
    "\n",
    "http://stattrek.com/statistics/dictionary.aspx?definition=Region_of_rejection\n",
    "\n",
    "https://en.wikipedia.org/wiki/One-_and_two-tailed_tests\n",
    "\n",
    "https://en.wikipedia.org/wiki/Statistical_hypothesis_testing#Definition_of_terms\n",
    "\n",
    "https://en.wikipedia.org/wiki/Null_hypothesis\n",
    "\n",
    "https://en.wikipedia.org/wiki/Critical_section\n",
    "\n",
    "https://en.wikipedia.org/wiki/Critical_value\n",
    "\n",
    "https://en.wikipedia.org/wiki/Rejection_sampling\n",
    "\n",
    "http://gsb420.blogspot.com.br/2008/02/one-tail-hypothesis-testing.html\n",
    "\n",
    "https://www.youtube.com/watch?v=NV__MIeS1MQ\n",
    "\n",
    "http://csrgxtu.github.io/2015/03/20/Writing-Mathematic-Fomulars-in-Markdown/\n",
    "\n",
    "http://garsia.math.yorku.ca/MPWP/LATEXmath/node8.html\n",
    "\n",
    "https://oeis.org/wiki/List_of_LaTeX_mathematical_symbols\n",
    "\n"
   ]
  }
 ],
 "metadata": {
  "kernelspec": {
   "display_name": "R",
   "language": "R",
   "name": "ir"
  },
  "language_info": {
   "codemirror_mode": "r",
   "file_extension": ".r",
   "mimetype": "text/x-r-source",
   "name": "R",
   "pygments_lexer": "r",
   "version": "3.4.1"
  }
 },
 "nbformat": 4,
 "nbformat_minor": 2
}
