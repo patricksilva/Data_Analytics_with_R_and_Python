{
 "cells": [
  {
   "cell_type": "markdown",
   "metadata": {},
   "source": [
    "# S04C30 - Data Statistics - Advanced Hypothesis Testing"
   ]
  },
  {
   "cell_type": "markdown",
   "metadata": {},
   "source": [
    "##### SIDE NOTE:\n",
    "\n",
    "Focus thinking and attention on those terms or review previous exercise and think in terms of:\n",
    "* **what are we trying to prove?**\n",
    "* where are we comming to current contradiction?\n",
    "* what are we trying to reject?\n",
    "* what is the null hypothesis?\n",
    "* what is the alternative hypothesis?\n",
    "* **what is going on here?**\n",
    "\n",
    "_\"It is very helpful to think through these things in terms of null hypothesis and alternative hypothesis. What are we trying to reject? Why are we trying to get a contradiction? These questions help to construct an intuitive feel. Continue practicing is important to **develop a hands on skill** and also **intuition** from these things.\"_"
   ]
  },
  {
   "cell_type": "markdown",
   "metadata": {},
   "source": [
    "## Summary\n",
    "* What it means when we cannot reject the Null Hypothesis $H_0$\n",
    "* Student's t-distribution\n",
    "* T-Tests\n",
    "* 1-Tailed And 2-Tailed Tests\n",
    "* 2-Tailed Test Exercise\n",
    "* Warning about misuse and overuse of p-values\n",
    "* Real Life Example"
   ]
  },
  {
   "cell_type": "markdown",
   "metadata": {},
   "source": [
    "## Advanced Hypothesis Testing\n",
    "\n",
    "Lorem ipsum"
   ]
  },
  {
   "cell_type": "markdown",
   "metadata": {},
   "source": [
    "### Subtittle\n",
    "\n",
    "Lorem ipsum"
   ]
  },
  {
   "cell_type": "markdown",
   "metadata": {},
   "source": [
    "## References\n",
    "\n",
    "* \n",
    "\n",
    "* https://www.khanacademy.org/math/statistics-probability/significance-tests-one-sample/tests-about-population-mean/v/hypothesis-testing-and-p-values"
   ]
  }
 ],
 "metadata": {
  "kernelspec": {
   "display_name": "R",
   "language": "R",
   "name": "ir"
  },
  "language_info": {
   "codemirror_mode": "r",
   "file_extension": ".r",
   "mimetype": "text/x-r-source",
   "name": "R",
   "pygments_lexer": "r",
   "version": "3.4.1"
  }
 },
 "nbformat": 4,
 "nbformat_minor": 2
}
