{
 "cells": [
  {
   "cell_type": "markdown",
   "metadata": {},
   "source": [
    "# S03D28 - Data Statistics - Challenge"
   ]
  },
  {
   "cell_type": "markdown",
   "metadata": {},
   "source": [
    "## Summary\n",
    "* Statistical Significance\n",
    "* Hypothesis Testing (tests involving the mean)\n",
    "    * Steps\n",
    "    * Rejection Region\n",
    "    * Assumptions\n",
    "* Proportion Testing (another type of hypot. test but testing proportions instead of the mean)"
   ]
  },
  {
   "cell_type": "markdown",
   "metadata": {},
   "source": [
    "## Challenge\n",
    "\n",
    "A client that manufactures kitchen goods asked for a data analysis. \n",
    "\n",
    "They spent $10,000,000 in fixed assets (equipment, machines and tools) and processes in order to decrease high number of defects in manufacturing (23%) which were leading to high return rates from their clients.\n",
    "\n",
    "We have been asked **to prove** (with a confidence level of **95%**) that new equipement has improved the situation and that the number of defective spoons has decreased to under 18%.\n",
    "We have been supplied with a random sample of 150 goods and found that 23 have defects."
   ]
  },
  {
   "cell_type": "markdown",
   "metadata": {},
   "source": [
    "### Draft\n",
    "\n",
    "Setting up hypothesis"
   ]
  },
  {
   "cell_type": "markdown",
   "metadata": {},
   "source": [
    "$H_0$ : defects in manufacturing $\\geqslant$ 18%"
   ]
  },
  {
   "cell_type": "markdown",
   "metadata": {},
   "source": [
    "$H_1$ : defects in manufacturing < 18%"
   ]
  },
  {
   "cell_type": "code",
   "execution_count": 1,
   "metadata": {
    "collapsed": false
   },
   "outputs": [],
   "source": [
    "library('visualize')"
   ]
  },
  {
   "cell_type": "code",
   "execution_count": 2,
   "metadata": {
    "collapsed": false
   },
   "outputs": [
    {
     "data": {
      "text/html": [
       "0.384187454245971"
      ],
      "text/latex": [
       "0.384187454245971"
      ],
      "text/markdown": [
       "0.384187454245971"
      ],
      "text/plain": [
       "[1] 0.3841875"
      ]
     },
     "metadata": {},
     "output_type": "display_data"
    },
    {
     "data": {
      "text/html": [
       "0.0313687742827162"
      ],
      "text/latex": [
       "0.0313687742827162"
      ],
      "text/markdown": [
       "0.0313687742827162"
      ],
      "text/plain": [
       "[1] 0.03136877"
      ]
     },
     "metadata": {},
     "output_type": "display_data"
    },
    {
     "data": {
      "text/html": [
       "0.153333333333333"
      ],
      "text/latex": [
       "0.153333333333333"
      ],
      "text/markdown": [
       "0.153333333333333"
      ],
      "text/plain": [
       "[1] 0.1533333"
      ]
     },
     "metadata": {},
     "output_type": "display_data"
    }
   ],
   "source": [
    "mean_x <- .18 # critical boundary\n",
    "#mean_x <- .23 # critical boundary\n",
    "n <- 150 # random sample\n",
    "sd <- sqrt(mean_x * (1 - mean_x)) # estimated standard deviation of the population\n",
    "sd\n",
    "sdx <- sd / sqrt(n)\n",
    "sdx\n",
    "x_crit_boundary <- 23 / n\n",
    "x_crit_boundary"
   ]
  },
  {
   "cell_type": "code",
   "execution_count": 3,
   "metadata": {
    "collapsed": false
   },
   "outputs": [
    {
     "data": {
      "text/html": [
       "-0.0266666666666667"
      ],
      "text/latex": [
       "-0.0266666666666667"
      ],
      "text/markdown": [
       "-0.0266666666666667"
      ],
      "text/plain": [
       "[1] -0.02666667"
      ]
     },
     "metadata": {},
     "output_type": "display_data"
    }
   ],
   "source": [
    "distance <- x_crit_boundary - mean_x\n",
    "distance"
   ]
  },
  {
   "cell_type": "code",
   "execution_count": 4,
   "metadata": {
    "collapsed": false
   },
   "outputs": [
    {
     "data": {
      "text/html": [
       "-0.850102284084451"
      ],
      "text/latex": [
       "-0.850102284084451"
      ],
      "text/markdown": [
       "-0.850102284084451"
      ],
      "text/plain": [
       "[1] -0.8501023"
      ]
     },
     "metadata": {},
     "output_type": "display_data"
    }
   ],
   "source": [
    "Z <- distance / sdx\n",
    "Z"
   ]
  },
  {
   "cell_type": "code",
   "execution_count": 5,
   "metadata": {
    "collapsed": false
   },
   "outputs": [
    {
     "name": "stdout",
     "output_type": "stream",
     "text": [
      "probability:  0.1976341"
     ]
    }
   ],
   "source": [
    "probability <- pnorm(Z)\n",
    "cat(\"probability: \", probability)"
   ]
  },
  {
   "cell_type": "code",
   "execution_count": 6,
   "metadata": {
    "collapsed": false
   },
   "outputs": [
    {
     "data": {
      "image/png": "[encoded data removed]",
      "text/plain": [
       "Plot with title \"Normal Distribution  \n",
       " μ  =  0.18   σ  =  0.0313687742827162  \""
      ]
     },
     "metadata": {},
     "output_type": "display_data"
    }
   ],
   "source": [
    "visualize.norm(stat=x_crit_boundary, mu = mean_x, sd = sdx, section = \"lower\")"
   ]
  },
  {
   "cell_type": "code",
   "execution_count": 7,
   "metadata": {
    "collapsed": false
   },
   "outputs": [
    {
     "data": {
      "text/html": [
       "'$H_0$ : was accepted with a confidence level of **95%**$H_1$ : was rejected.'"
      ],
      "text/latex": [
       "'\\$H\\_0\\$ : was accepted with a confidence level of **95\\%**\\$H\\_1\\$ : was rejected.'"
      ],
      "text/markdown": [
       "'$H_0$ : was accepted with a confidence level of **95%**$H_1$ : was rejected.'"
      ],
      "text/plain": [
       "[1] \"$H_0$ : was accepted with a confidence level of **95%**$H_1$ : was rejected.\""
      ]
     },
     "metadata": {},
     "output_type": "display_data"
    }
   ],
   "source": [
    "part_ans0 <- 'accept'\n",
    "part_ans1 <- 'reject'\n",
    "\n",
    "if ( probability < .05 ) {\n",
    "    part_ans0 <- 'reject'\n",
    "    part_ans1 <- 'accept'\n",
    "}\n",
    "\n",
    "paste(c(\"$H_0$ : was \",part_ans0,\n",
    "        \"ed with a confidence level of **95%**\",\"$H_1$ : was \",part_ans1,\"ed.\"),collapse=\"\")"
   ]
  },
  {
   "cell_type": "markdown",
   "metadata": {},
   "source": [
    "### Solution\n",
    "\n",
    "Lorem ipsum"
   ]
  },
  {
   "cell_type": "markdown",
   "metadata": {},
   "source": [
    "###  Future work\n",
    "\n",
    "To calculate and plot side by side the normal distribution for mean_x in (0.18, 0.23)"
   ]
  },
  {
   "cell_type": "markdown",
   "metadata": {},
   "source": [
    "## References\n",
    "\n",
    "https://cran.r-project.org/web/packages/visualize/visualize.pdf\n",
    "\n",
    "http://thecoatlessprofessor.com/projects/visualize/\n",
    "\n",
    "https://www.dataquest.io/blog/jupyter-notebook-tips-tricks-shortcuts/\n",
    "\n",
    "https://stackoverflow.com/questions/13973116/convert-r-vector-to-string-vector-of-1-element"
   ]
  }
 ],
 "metadata": {
  "kernelspec": {
   "display_name": "R",
   "language": "R",
   "name": "ir"
  },
  "language_info": {
   "codemirror_mode": "r",
   "file_extension": ".r",
   "mimetype": "text/x-r-source",
   "name": "R",
   "pygments_lexer": "r",
   "version": "3.4.1"
  }
 },
 "nbformat": 4,
 "nbformat_minor": 2
}
