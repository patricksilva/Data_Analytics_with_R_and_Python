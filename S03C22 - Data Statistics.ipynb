{
 "cells": [
  {
   "cell_type": "markdown",
   "metadata": {},
   "source": [
    "# S03D22 - Data Statistics"
   ]
  },
  {
   "cell_type": "markdown",
   "metadata": {},
   "source": [
    "## Summary\n",
    "* Statistical Significance\n",
    "* Hypothesis Testing (tests involving the mean)\n",
    "    * Steps\n",
    "    * Rejection Region\n",
    "    * Assumptions\n",
    "* Proportion Testing (another type of hypot. test but testing proportions instead of the mean)"
   ]
  },
  {
   "cell_type": "markdown",
   "metadata": {},
   "source": [
    "## Statistical Significance\n",
    "*Are our results statistically significant?*\n",
    "\n",
    "*Are these insights statistically significant or not?*\n",
    "\n",
    "*How to substantiate the results or findings in first place, without knowing if is right or wrong?\n",
    "\n",
    "How to build a **strong understanding** of statistical significance? What is the intuition behind **statistical significance**?"
   ]
  },
  {
   "cell_type": "markdown",
   "metadata": {},
   "source": [
    "How to link how we feel about an experiment to what actually the concept of statistical significance is?\n",
    "\n",
    "In order to develop a **strong understanding**, we start with a fairly simple experiment: **a coin toss**.\n",
    "\n"
   ]
  },
  {
   "cell_type": "markdown",
   "metadata": {},
   "source": [
    "<img src=\"img/jpg/Coin-Flip-randomness-1-768x431.jpg\" alt=\"Drawing\" style=\"width: 384px; height: 216px\"/>"
   ]
  },
  {
   "cell_type": "markdown",
   "metadata": {},
   "source": [
    "In such a simple experiment we just have two possible outcomes, or situations. Heads or Tails.\n",
    "Think about the possible alternatives the experiment have.\n",
    "\n",
    "First of all: is it a fair coin or does it have bias?"
   ]
  },
  {
   "cell_type": "markdown",
   "metadata": {},
   "source": [
    "## References\n",
    "\n",
    "https://stackoverflow.com/questions/32370281/how-to-include-image-or-picture-in-jupyter-notebook\n",
    "http://wonderfulengineering.com/can-a-robot-flipping-a-coin-with-the-exact-same-conditions-get-the-same-results-every-time/\n",
    "https://stackoverflow.com/questions/14675913/how-to-change-image-size-markdown"
   ]
  }
 ],
 "metadata": {
  "kernelspec": {
   "display_name": "R",
   "language": "R",
   "name": "ir"
  },
  "language_info": {
   "codemirror_mode": "r",
   "file_extension": ".r",
   "mimetype": "text/x-r-source",
   "name": "R",
   "pygments_lexer": "r",
   "version": "3.4.1"
  }
 },
 "nbformat": 4,
 "nbformat_minor": 2
}
