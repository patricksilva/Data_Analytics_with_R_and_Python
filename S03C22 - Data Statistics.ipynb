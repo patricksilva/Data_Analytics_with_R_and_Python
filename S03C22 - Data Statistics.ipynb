{
 "cells": [
  {
   "cell_type": "markdown",
   "metadata": {},
   "source": [
    "# S03D22 - Data Statistics"
   ]
  },
  {
   "cell_type": "markdown",
   "metadata": {},
   "source": [
    "## Summary\n",
    "* Statistical Significance\n",
    "* Hypothesis Testing (tests involving the mean)\n",
    "    * Steps\n",
    "    * Rejection Region\n",
    "    * Assumptions\n",
    "* Proportion Testing (another type of hypot. test but testing proportions instead of the mean)"
   ]
  },
  {
   "cell_type": "markdown",
   "metadata": {},
   "source": [
    "## Statistical Significance\n",
    "*Are our results statistically significant?*\n",
    "\n",
    "*Are these insights statistically significant or not?*\n",
    "\n",
    "*How to substantiate the results or findings in first place, without knowing if is right or wrong?\n",
    "\n",
    "How to build a **strong understanding** of statistical significance? What is the intuition behind **statistical significance**?\n",
    "\n",
    "How to link how we feel about an experiment to what actually statistical significance is."
   ]
  },
  {
   "cell_type": "markdown",
   "metadata": {},
   "source": [
    "![title](img/jpg/Coin-Flip-randomness-1-768x431.jpg)"
   ]
  }
 ],
 "metadata": {
  "kernelspec": {
   "display_name": "R",
   "language": "R",
   "name": "ir"
  },
  "language_info": {
   "codemirror_mode": "r",
   "file_extension": ".r",
   "mimetype": "text/x-r-source",
   "name": "R",
   "pygments_lexer": "r",
   "version": "3.4.1"
  }
 },
 "nbformat": 4,
 "nbformat_minor": 2
}
