{
 "cells": [
  {
   "cell_type": "markdown",
   "metadata": {},
   "source": [
    "# S03D26 - Data Statistics - Hypothesis Testing - Assumptions"
   ]
  },
  {
   "cell_type": "markdown",
   "metadata": {},
   "source": [
    "## Summary\n",
    "* Statistical Significance\n",
    "* Hypothesis Testing (tests involving the mean)\n",
    "    * Steps\n",
    "    * Rejection Region\n",
    "    * Assumptions\n",
    "* Proportion Testing (another type of hypot. test but testing proportions instead of the mean)"
   ]
  },
  {
   "cell_type": "markdown",
   "metadata": {},
   "source": [
    "## Hypothesis Testing\n",
    "\n",
    "Lorem ipsum"
   ]
  },
  {
   "cell_type": "markdown",
   "metadata": {},
   "source": [
    "### Statistical Assumptions\n",
    "\n",
    "#### Z-Test Assumptions\n",
    "\n",
    "When we are looking at the Z table and calculating Z score we are acctually performing a Z-Test."
   ]
  },
  {
   "cell_type": "markdown",
   "metadata": {},
   "source": [
    "1. Sample is selected at random (there are potential pitfalls here) _\"It is really important to make sure that this assumption holds throughout the whole testing process\"._\n",
    "\n",
    "2. Observations are independent\n",
    "\n",
    "3. The population's standard deviation is known **OR** the sample contains **at least** 30 observations\n",
    "\n"
   ]
  },
  {
   "cell_type": "markdown",
   "metadata": {},
   "source": [
    "## References\n",
    "\n",
    "### Topics to Review - Confidence Interval\n",
    "\n",
    "https://pt.wikipedia.org/wiki/Intervalo_de_confian%C3%A7a\n",
    "\n",
    "https://www.youtube.com/watch?v=eBh1pdrTIYo\n",
    "\n",
    "https://pt.wikipedia.org/wiki/Estimativa_por_intervalo\n",
    "\n",
    "### Topics in this notebook - Hypothesis Testing\n",
    "\n",
    "https://en.wikipedia.org/wiki/Statistical_assumption\n",
    "\n",
    "https://pt.wikipedia.org/wiki/Testes_de_hip%C3%B3teses\n",
    "\n",
    "https://en.wikipedia.org/wiki/Statistical_hypothesis_testing\n",
    "\n",
    "https://en.wikipedia.org/wiki/Demography\n",
    "\n",
    "https://en.wikipedia.org/wiki/Demographic_analysis\n"
   ]
  }
 ],
 "metadata": {
  "kernelspec": {
   "display_name": "R",
   "language": "R",
   "name": "ir"
  },
  "language_info": {
   "codemirror_mode": "r",
   "file_extension": ".r",
   "mimetype": "text/x-r-source",
   "name": "R",
   "pygments_lexer": "r",
   "version": "3.4.1"
  }
 },
 "nbformat": 4,
 "nbformat_minor": 2
}
