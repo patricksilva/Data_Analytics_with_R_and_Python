{
 "cells": [
  {
   "cell_type": "markdown",
   "metadata": {},
   "source": [
    "# S04D30a - Data Statistics - The Value of Visualizations"
   ]
  },
  {
   "cell_type": "markdown",
   "metadata": {},
   "source": [
    "## Summary\n",
    "* Anscombe's quartet\n",
    "* datasauRus"
   ]
  },
  {
   "cell_type": "markdown",
   "metadata": {},
   "source": [
    "## Topic\n",
    "\n",
    "Lorem ipsum"
   ]
  },
  {
   "cell_type": "markdown",
   "metadata": {},
   "source": [
    "### Subtittle\n",
    "\n",
    "Lorem ipsum"
   ]
  },
  {
   "cell_type": "markdown",
   "metadata": {},
   "source": [
    "## References\n",
    "\n",
    "* https://en.wikipedia.org/wiki/Anscombe%27s_quartet\n",
    "\n",
    "* https://www.r-bloggers.com/datasaurus-now-on-cran/\n",
    "\n",
    "* https://cran.r-project.org/web/packages/datasauRus/datasauRus.pdf\n",
    "\n",
    "* https://www.autodeskresearch.com/publications/samestats\n",
    "\n",
    "* http://blog.revolutionanalytics.com/2017/05/the-datasaurus-dozen.html\n"
   ]
  }
 ],
 "metadata": {
  "kernelspec": {
   "display_name": "R",
   "language": "R",
   "name": "ir"
  },
  "language_info": {
   "codemirror_mode": "r",
   "file_extension": ".r",
   "mimetype": "text/x-r-source",
   "name": "R",
   "pygments_lexer": "r",
   "version": "3.4.1"
  }
 },
 "nbformat": 4,
 "nbformat_minor": 2
}
